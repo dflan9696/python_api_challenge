{
 "cells": [
  {
   "cell_type": "markdown",
   "metadata": {},
   "source": [
    "# WeatherPy\n",
    "\n",
    "---\n",
    "\n",
    "## Starter Code to Generate Random Geographic Coordinates and a List of Cities"
   ]
  },
  {
   "cell_type": "code",
   "execution_count": 1,
   "metadata": {
    "scrolled": true
   },
   "outputs": [],
   "source": [
    "# Dependencies and Setup\n",
    "import matplotlib.pyplot as plt\n",
    "import pandas as pd\n",
    "import numpy as np\n",
    "import requests\n",
    "import time\n",
    "from scipy.stats import linregress\n",
    "\n",
    "# Impor the OpenWeatherMap API key\n",
    "from api_keys import weather_api_key\n",
    "\n",
    "# Import citipy to determine the cities based on latitude and longitude\n",
    "from citipy import citipy"
   ]
  },
  {
   "cell_type": "markdown",
   "metadata": {},
   "source": [
    "### Generate the Cities List by Using the `citipy` Library"
   ]
  },
  {
   "cell_type": "code",
   "execution_count": 2,
   "metadata": {},
   "outputs": [
    {
     "name": "stdout",
     "output_type": "stream",
     "text": [
      "Number of cities in the list: 599\n"
     ]
    }
   ],
   "source": [
    "# Empty list for holding the latitude and longitude combinations\n",
    "lat_lngs = []\n",
    "\n",
    "# Empty list for holding the cities names\n",
    "cities = []\n",
    "\n",
    "# Range of latitudes and longitudes\n",
    "lat_range = (-90, 90)\n",
    "lng_range = (-180, 180)\n",
    "\n",
    "# Create a set of random lat and lng combinations\n",
    "lats = np.random.uniform(lat_range[0], lat_range[1], size=1500)\n",
    "lngs = np.random.uniform(lng_range[0], lng_range[1], size=1500)\n",
    "lat_lngs = zip(lats, lngs)\n",
    "\n",
    "# Identify nearest city for each lat, lng combination\n",
    "for lat_lng in lat_lngs:\n",
    "    city = citipy.nearest_city(lat_lng[0], lat_lng[1]).city_name\n",
    "    \n",
    "    # If the city is unique, then add it to a our cities list\n",
    "    if city not in cities:\n",
    "        cities.append(city)\n",
    "\n",
    "# Print the city count to confirm sufficient count\n",
    "print(f\"Number of cities in the list: {len(cities)}\")"
   ]
  },
  {
   "cell_type": "markdown",
   "metadata": {},
   "source": [
    "---"
   ]
  },
  {
   "cell_type": "markdown",
   "metadata": {},
   "source": [
    "## Requirement 1: Create Plots to Showcase the Relationship Between Weather Variables and Latitude\n",
    "\n",
    "### Use the OpenWeatherMap API to retrieve weather data from the cities list generated in the started code"
   ]
  },
  {
   "cell_type": "code",
   "execution_count": null,
   "metadata": {},
   "outputs": [
    {
     "name": "stdout",
     "output_type": "stream",
     "text": [
      "Beginning Data Retrieval     \n",
      "-----------------------------\n",
      "http://api.openweathermap.org/data/2.5/weather?appid=0987d6454ae1869935e77edf9da59f4a&q=longyearbyen&units=metric\n",
      "Processing Record 1 of Set 1 | longyearbyen\n",
      "City not found. Skipping...\n",
      "http://api.openweathermap.org/data/2.5/weather?appid=0987d6454ae1869935e77edf9da59f4a&q=malango&units=metric\n",
      "Processing Record 2 of Set 1 | malango\n",
      "City not found. Skipping...\n",
      "http://api.openweathermap.org/data/2.5/weather?appid=0987d6454ae1869935e77edf9da59f4a&q=hawaiian paradise park&units=metric\n",
      "Processing Record 3 of Set 1 | hawaiian paradise park\n",
      "City not found. Skipping...\n",
      "http://api.openweathermap.org/data/2.5/weather?appid=0987d6454ae1869935e77edf9da59f4a&q=arauco&units=metric\n",
      "Processing Record 4 of Set 1 | arauco\n",
      "City not found. Skipping...\n",
      "http://api.openweathermap.org/data/2.5/weather?appid=0987d6454ae1869935e77edf9da59f4a&q=peace river&units=metric\n",
      "Processing Record 5 of Set 1 | peace river\n",
      "City not found. Skipping...\n",
      "http://api.openweathermap.org/data/2.5/weather?appid=0987d6454ae1869935e77edf9da59f4a&q=port lincoln&units=metric\n",
      "Processing Record 6 of Set 1 | port lincoln\n",
      "City not found. Skipping...\n",
      "http://api.openweathermap.org/data/2.5/weather?appid=0987d6454ae1869935e77edf9da59f4a&q=touros&units=metric\n",
      "Processing Record 7 of Set 1 | touros\n",
      "City not found. Skipping...\n",
      "http://api.openweathermap.org/data/2.5/weather?appid=0987d6454ae1869935e77edf9da59f4a&q=puerto natales&units=metric\n",
      "Processing Record 8 of Set 1 | puerto natales\n",
      "City not found. Skipping...\n",
      "http://api.openweathermap.org/data/2.5/weather?appid=0987d6454ae1869935e77edf9da59f4a&q=kavieng&units=metric\n",
      "Processing Record 9 of Set 1 | kavieng\n",
      "City not found. Skipping...\n",
      "http://api.openweathermap.org/data/2.5/weather?appid=0987d6454ae1869935e77edf9da59f4a&q=saipan&units=metric\n",
      "Processing Record 10 of Set 1 | saipan\n",
      "City not found. Skipping...\n",
      "http://api.openweathermap.org/data/2.5/weather?appid=0987d6454ae1869935e77edf9da59f4a&q=isangel&units=metric\n",
      "Processing Record 11 of Set 1 | isangel\n",
      "City not found. Skipping...\n",
      "http://api.openweathermap.org/data/2.5/weather?appid=0987d6454ae1869935e77edf9da59f4a&q=aoulef&units=metric\n",
      "Processing Record 12 of Set 1 | aoulef\n",
      "City not found. Skipping...\n",
      "http://api.openweathermap.org/data/2.5/weather?appid=0987d6454ae1869935e77edf9da59f4a&q=anadyr&units=metric\n",
      "Processing Record 13 of Set 1 | anadyr\n",
      "City not found. Skipping...\n",
      "http://api.openweathermap.org/data/2.5/weather?appid=0987d6454ae1869935e77edf9da59f4a&q=georgetown&units=metric\n",
      "Processing Record 14 of Set 1 | georgetown\n",
      "City not found. Skipping...\n",
      "http://api.openweathermap.org/data/2.5/weather?appid=0987d6454ae1869935e77edf9da59f4a&q=brumadinho&units=metric\n",
      "Processing Record 15 of Set 1 | brumadinho\n",
      "City not found. Skipping...\n",
      "http://api.openweathermap.org/data/2.5/weather?appid=0987d6454ae1869935e77edf9da59f4a&q=invercargill&units=metric\n",
      "Processing Record 16 of Set 1 | invercargill\n",
      "City not found. Skipping...\n",
      "http://api.openweathermap.org/data/2.5/weather?appid=0987d6454ae1869935e77edf9da59f4a&q=tazacorte&units=metric\n",
      "Processing Record 17 of Set 1 | tazacorte\n",
      "City not found. Skipping...\n",
      "http://api.openweathermap.org/data/2.5/weather?appid=0987d6454ae1869935e77edf9da59f4a&q=port-aux-francais&units=metric\n",
      "Processing Record 18 of Set 1 | port-aux-francais\n",
      "City not found. Skipping...\n",
      "http://api.openweathermap.org/data/2.5/weather?appid=0987d6454ae1869935e77edf9da59f4a&q=kirkland lake&units=metric\n",
      "Processing Record 19 of Set 1 | kirkland lake\n",
      "City not found. Skipping...\n",
      "http://api.openweathermap.org/data/2.5/weather?appid=0987d6454ae1869935e77edf9da59f4a&q=harper&units=metric\n",
      "Processing Record 20 of Set 1 | harper\n",
      "City not found. Skipping...\n",
      "http://api.openweathermap.org/data/2.5/weather?appid=0987d6454ae1869935e77edf9da59f4a&q=thunder bay&units=metric\n",
      "Processing Record 21 of Set 1 | thunder bay\n",
      "City not found. Skipping...\n",
      "http://api.openweathermap.org/data/2.5/weather?appid=0987d6454ae1869935e77edf9da59f4a&q=lebu&units=metric\n",
      "Processing Record 22 of Set 1 | lebu\n",
      "City not found. Skipping...\n",
      "http://api.openweathermap.org/data/2.5/weather?appid=0987d6454ae1869935e77edf9da59f4a&q=taiohae&units=metric\n",
      "Processing Record 23 of Set 1 | taiohae\n",
      "City not found. Skipping...\n",
      "http://api.openweathermap.org/data/2.5/weather?appid=0987d6454ae1869935e77edf9da59f4a&q=whitehorse&units=metric\n",
      "Processing Record 24 of Set 1 | whitehorse\n",
      "City not found. Skipping...\n",
      "http://api.openweathermap.org/data/2.5/weather?appid=0987d6454ae1869935e77edf9da59f4a&q=adamstown&units=metric\n",
      "Processing Record 25 of Set 1 | adamstown\n",
      "City not found. Skipping...\n",
      "http://api.openweathermap.org/data/2.5/weather?appid=0987d6454ae1869935e77edf9da59f4a&q=bethel&units=metric\n",
      "Processing Record 26 of Set 1 | bethel\n",
      "City not found. Skipping...\n",
      "http://api.openweathermap.org/data/2.5/weather?appid=0987d6454ae1869935e77edf9da59f4a&q=dudinka&units=metric\n",
      "Processing Record 27 of Set 1 | dudinka\n",
      "City not found. Skipping...\n",
      "http://api.openweathermap.org/data/2.5/weather?appid=0987d6454ae1869935e77edf9da59f4a&q=yellowknife&units=metric\n",
      "Processing Record 28 of Set 1 | yellowknife\n",
      "City not found. Skipping...\n",
      "http://api.openweathermap.org/data/2.5/weather?appid=0987d6454ae1869935e77edf9da59f4a&q=al kharijah&units=metric\n",
      "Processing Record 29 of Set 1 | al kharijah\n",
      "City not found. Skipping...\n",
      "http://api.openweathermap.org/data/2.5/weather?appid=0987d6454ae1869935e77edf9da59f4a&q=edinburgh of the seven seas&units=metric\n",
      "Processing Record 30 of Set 1 | edinburgh of the seven seas\n",
      "City not found. Skipping...\n",
      "http://api.openweathermap.org/data/2.5/weather?appid=0987d6454ae1869935e77edf9da59f4a&q=ilulissat&units=metric\n",
      "Processing Record 31 of Set 1 | ilulissat\n",
      "City not found. Skipping...\n",
      "http://api.openweathermap.org/data/2.5/weather?appid=0987d6454ae1869935e77edf9da59f4a&q=mulanje&units=metric\n",
      "Processing Record 32 of Set 1 | mulanje\n",
      "City not found. Skipping...\n",
      "http://api.openweathermap.org/data/2.5/weather?appid=0987d6454ae1869935e77edf9da59f4a&q=stanley&units=metric\n",
      "Processing Record 33 of Set 1 | stanley\n",
      "City not found. Skipping...\n",
      "http://api.openweathermap.org/data/2.5/weather?appid=0987d6454ae1869935e77edf9da59f4a&q=grytviken&units=metric\n",
      "Processing Record 34 of Set 1 | grytviken\n",
      "City not found. Skipping...\n",
      "http://api.openweathermap.org/data/2.5/weather?appid=0987d6454ae1869935e77edf9da59f4a&q=sola&units=metric\n",
      "Processing Record 35 of Set 1 | sola\n",
      "City not found. Skipping...\n",
      "http://api.openweathermap.org/data/2.5/weather?appid=0987d6454ae1869935e77edf9da59f4a&q=olonkinbyen&units=metric\n",
      "Processing Record 36 of Set 1 | olonkinbyen\n",
      "City not found. Skipping...\n",
      "http://api.openweathermap.org/data/2.5/weather?appid=0987d6454ae1869935e77edf9da59f4a&q=uturoa&units=metric\n",
      "Processing Record 37 of Set 1 | uturoa\n",
      "City not found. Skipping...\n",
      "http://api.openweathermap.org/data/2.5/weather?appid=0987d6454ae1869935e77edf9da59f4a&q=tiksi&units=metric\n",
      "Processing Record 38 of Set 1 | tiksi\n",
      "City not found. Skipping...\n",
      "http://api.openweathermap.org/data/2.5/weather?appid=0987d6454ae1869935e77edf9da59f4a&q=isafjordur&units=metric\n",
      "Processing Record 39 of Set 1 | isafjordur\n",
      "City not found. Skipping...\n",
      "http://api.openweathermap.org/data/2.5/weather?appid=0987d6454ae1869935e77edf9da59f4a&q=mount gambier&units=metric\n",
      "Processing Record 40 of Set 1 | mount gambier\n",
      "City not found. Skipping...\n",
      "http://api.openweathermap.org/data/2.5/weather?appid=0987d6454ae1869935e77edf9da59f4a&q=udachny&units=metric\n",
      "Processing Record 41 of Set 1 | udachny\n",
      "City not found. Skipping...\n",
      "http://api.openweathermap.org/data/2.5/weather?appid=0987d6454ae1869935e77edf9da59f4a&q=kombissiri&units=metric\n",
      "Processing Record 42 of Set 1 | kombissiri\n",
      "City not found. Skipping...\n",
      "http://api.openweathermap.org/data/2.5/weather?appid=0987d6454ae1869935e77edf9da59f4a&q=wailua homesteads&units=metric\n",
      "Processing Record 43 of Set 1 | wailua homesteads\n",
      "City not found. Skipping...\n",
      "http://api.openweathermap.org/data/2.5/weather?appid=0987d6454ae1869935e77edf9da59f4a&q=coquimbo&units=metric\n",
      "Processing Record 44 of Set 1 | coquimbo\n",
      "City not found. Skipping...\n",
      "http://api.openweathermap.org/data/2.5/weather?appid=0987d6454ae1869935e77edf9da59f4a&q=punta arenas&units=metric\n",
      "Processing Record 45 of Set 1 | punta arenas\n",
      "City not found. Skipping...\n",
      "http://api.openweathermap.org/data/2.5/weather?appid=0987d6454ae1869935e77edf9da59f4a&q=alofi&units=metric\n",
      "Processing Record 46 of Set 1 | alofi\n",
      "City not found. Skipping...\n",
      "http://api.openweathermap.org/data/2.5/weather?appid=0987d6454ae1869935e77edf9da59f4a&q=albany&units=metric\n",
      "Processing Record 47 of Set 1 | albany\n",
      "City not found. Skipping...\n",
      "http://api.openweathermap.org/data/2.5/weather?appid=0987d6454ae1869935e77edf9da59f4a&q=concordia&units=metric\n",
      "Processing Record 48 of Set 1 | concordia\n",
      "City not found. Skipping...\n",
      "http://api.openweathermap.org/data/2.5/weather?appid=0987d6454ae1869935e77edf9da59f4a&q=ballina&units=metric\n",
      "Processing Record 49 of Set 1 | ballina\n",
      "City not found. Skipping...\n",
      "http://api.openweathermap.org/data/2.5/weather?appid=0987d6454ae1869935e77edf9da59f4a&q=margaret river&units=metric\n",
      "Processing Record 50 of Set 1 | margaret river\n",
      "City not found. Skipping...\n",
      "http://api.openweathermap.org/data/2.5/weather?appid=0987d6454ae1869935e77edf9da59f4a&q=ratnagiri&units=metric\n",
      "Processing Record 0 of Set 2 | ratnagiri\n",
      "City not found. Skipping...\n",
      "http://api.openweathermap.org/data/2.5/weather?appid=0987d6454ae1869935e77edf9da59f4a&q=kilindoni&units=metric\n",
      "Processing Record 1 of Set 2 | kilindoni\n",
      "City not found. Skipping...\n",
      "http://api.openweathermap.org/data/2.5/weather?appid=0987d6454ae1869935e77edf9da59f4a&q=waitangi&units=metric\n",
      "Processing Record 2 of Set 2 | waitangi\n",
      "City not found. Skipping...\n",
      "http://api.openweathermap.org/data/2.5/weather?appid=0987d6454ae1869935e77edf9da59f4a&q=hermanus&units=metric\n",
      "Processing Record 3 of Set 2 | hermanus\n",
      "City not found. Skipping...\n",
      "http://api.openweathermap.org/data/2.5/weather?appid=0987d6454ae1869935e77edf9da59f4a&q=thinadhoo&units=metric\n",
      "Processing Record 4 of Set 2 | thinadhoo\n"
     ]
    }
   ],
   "source": [
    "# Set the API base URL\n",
    "url = \"http://api.openweathermap.org/data/2.5/weather?\"\n",
    "\n",
    "# Define an empty list to fetch the weather data for each city\n",
    "city_data = []\n",
    "\n",
    "# Print to logger\n",
    "print(\"Beginning Data Retrieval     \")\n",
    "print(\"-----------------------------\")\n",
    "\n",
    "# Create counters\n",
    "record_count = 1\n",
    "set_count = 1\n",
    "\n",
    "# Loop through all the cities in our list to fetch weather data\n",
    "for i, city in enumerate(cities):\n",
    "        \n",
    "    # Group cities in sets of 50 for logging purposes\n",
    "    if (i % 50 == 0 and i >= 50):\n",
    "        set_count += 1\n",
    "        record_count = 0\n",
    "\n",
    "    # Create endpoint URL with each city\n",
    "    city_url = f\"{url}appid={weather_api_key}&q={city}&units=metric\"\n",
    "    print(city_url)\n",
    "    # Log the url, record, and set numbers\n",
    "    print(\"Processing Record %s of Set %s | %s\" % (record_count, set_count, city))\n",
    "\n",
    "    # Add 1 to the record count\n",
    "    record_count += 1\n",
    "\n",
    "    # Run an API request for each of the cities\n",
    "    try:\n",
    "        # Parse the JSON and retrieve data\n",
    "        city_weather = (requests.get(city_url)).json()\n",
    "\n",
    "        # Parse out latitude, longitude, max temp, humidity, cloudiness, wind speed, country, and date\n",
    "        city_lat = city_weather[\"coord\"][\"lat\"]\n",
    "        city_lng = city_weather['coord']['lon']\n",
    "        city_temp_max = city_weather['main']['temp_max']\n",
    "        city_humidity = city_weather['main']['humidity']\n",
    "        city_clouds = city_weather['clouds']['all']\n",
    "        city_wind = city_weather['wind']['speed']\n",
    "        city_country = city_weather['sys']['country']\n",
    "        city_date = city_weather[\"dt\"]\n",
    "\n",
    "\n",
    "        # Append the City information into city_data list\n",
    "        city_data.append({\"City\": city, \n",
    "                          \"Lat\": city_lat, \n",
    "                          \"Lng\": city_lng, \n",
    "                          \"Max Temp\": city_max_temp,\n",
    "                          \"Humidity\": city_humidity,\n",
    "                          \"Cloudiness\": city_clouds,\n",
    "                          \"Wind Speed\": city_wind,\n",
    "                          \"Country\": city_country,\n",
    "                          \"Date\": city_date})\n",
    "\n",
    "    # If an error is experienced, skip the city\n",
    "    except:\n",
    "        print(\"City not found. Skipping...\")\n",
    "        pass\n",
    "              \n",
    "# Indicate that Data Loading is complete \n",
    "print(\"-----------------------------\")\n",
    "print(\"Data Retrieval Complete      \")\n",
    "print(\"-----------------------------\")"
   ]
  },
  {
   "cell_type": "code",
   "execution_count": null,
   "metadata": {},
   "outputs": [],
   "source": [
    "# Convert the cities weather data into a Pandas DataFrame\n",
    "city_data_df = pd.DataFrame(city_data)\n",
    "\n",
    "# Show Record Count\n",
    "city_data_df.count()"
   ]
  },
  {
   "cell_type": "code",
   "execution_count": null,
   "metadata": {},
   "outputs": [],
   "source": [
    "# Display sample data\n",
    "city_data_df.head()"
   ]
  },
  {
   "cell_type": "code",
   "execution_count": null,
   "metadata": {},
   "outputs": [],
   "source": [
    "# Export the City_Data into a csv\n",
    "city_data_df.to_csv(\"../output_data/cities.csv\", index_label=\"City_ID\")"
   ]
  },
  {
   "cell_type": "code",
   "execution_count": null,
   "metadata": {},
   "outputs": [],
   "source": [
    "# Read saved data\n",
    "city_data_df = pd.read_csv(\"../output_data/cities.csv\", index_col=\"City_ID\")\n",
    "\n",
    "# Display sample data\n",
    "city_data_df.head()"
   ]
  },
  {
   "cell_type": "markdown",
   "metadata": {},
   "source": [
    "### Create the Scatter Plots Requested\n",
    "\n",
    "#### Latitude Vs. Temperature"
   ]
  },
  {
   "cell_type": "code",
   "execution_count": null,
   "metadata": {
    "tags": []
   },
   "outputs": [],
   "source": [
    "# Build scatter plot for latitude vs. temperature\n",
    "plt.scatter(city_data_df[\"Max Temp\"], city_data_df[\"Lat\"])\n",
    "\n",
    "# Incorporate the other graph properties\n",
    "plt.xlabel(\"Latitude\")\n",
    "plt.ylabel(\"Max Temperature\")\n",
    "\n",
    "# Save the figure\n",
    "plt.savefig(\"../output_data/Fig1.png\")\n",
    "\n",
    "# Show plot\n",
    "plt.show()"
   ]
  },
  {
   "cell_type": "markdown",
   "metadata": {},
   "source": [
    "#### Latitude Vs. Humidity"
   ]
  },
  {
   "cell_type": "code",
   "execution_count": null,
   "metadata": {},
   "outputs": [],
   "source": [
    "# Build the scatter plots for latitude vs. humidity\n",
    "plt.scatter(city_data_df[\"Humidity\"], city_data_df[\"Lat\"])\n",
    "\n",
    "# Incorporate the other graph properties\n",
    "plt.xlabel(\"Latitude\")\n",
    "plt.ylabel(\"Humidity\")\n",
    "\n",
    "# Save the figure\n",
    "plt.savefig(\"../output_data/Fig2.png\")\n",
    "\n",
    "# Show plot\n",
    "plt.show()"
   ]
  },
  {
   "cell_type": "markdown",
   "metadata": {},
   "source": [
    "#### Latitude Vs. Cloudiness"
   ]
  },
  {
   "cell_type": "code",
   "execution_count": null,
   "metadata": {},
   "outputs": [],
   "source": [
    "# Build the scatter plots for latitude vs. cloudiness\n",
    "plt.scatter(city_data_df[\"Cloudiness\"], city_data_df[\"Lat\"])\n",
    "\n",
    "# Incorporate the other graph properties\n",
    "plt.xlabel(\"Latitude\")\n",
    "plt.ylabel(\"Cloudiness\")\n",
    "\n",
    "# Save the figure\n",
    "plt.savefig(\"../output_data/Fig3.png\")\n",
    "\n",
    "# Show plot\n",
    "plt.show()"
   ]
  },
  {
   "cell_type": "markdown",
   "metadata": {},
   "source": [
    "#### Latitude vs. Wind Speed Plot"
   ]
  },
  {
   "cell_type": "code",
   "execution_count": null,
   "metadata": {},
   "outputs": [],
   "source": [
    "# Build the scatter plots for latitude vs. wind speed\n",
    "plt.scatter(city_data_df[\"Wind Speed\"], city_data_df[\"Lat\"])\n",
    "\n",
    "# Incorporate the other graph properties\n",
    "plt.xlabel(\"Latitude\")\n",
    "plt.ylabel(\"Wind Speed\")\n",
    "\n",
    "# Save the figure\n",
    "plt.savefig(\"../output_data/Fig4.png\")\n",
    "\n",
    "# Show plot\n",
    "plt.show()"
   ]
  },
  {
   "cell_type": "markdown",
   "metadata": {},
   "source": [
    "---\n",
    "\n",
    "## Requirement 2: Compute Linear Regression for Each Relationship\n"
   ]
  },
  {
   "cell_type": "code",
   "execution_count": null,
   "metadata": {},
   "outputs": [],
   "source": [
    "# Define a function to create Linear Regression plots\n",
    "def linear_regress(x, y, eqn_coordinates):\n",
    "    r = st.pearsonr(x, y)\n",
    "    print(f\"The r-value is: {r[0]}\")\n",
    "    (slope, intercept, rvalue, pvalue, stderr) = linregress(x, y)\n",
    "    regress_values = x * slope + intercept\n",
    "    line_eq = f\"y ={slope: .2f}x +{intercept: .2f}\"\n",
    "    plt.plot(x, regress_values, \"r-\")\n",
    "    plt.annotate(line_eq, eqn_coordinates, fontsize=12, color=\"red\")\n",
    "    plt.scatter(x, y)\n",
    "    plt.xlabel(f\"{x.name}\")\n",
    "    plt.ylabel(f\"{y.name}\")"
   ]
  },
  {
   "cell_type": "code",
   "execution_count": null,
   "metadata": {},
   "outputs": [],
   "source": [
    "# Create a DataFrame with the Northern Hemisphere data (Latitude >= 0)\n",
    "northern_hemi_df = city_data_df.loc[city_data_df[\"Lat\"] >= 0]\n",
    "\n",
    "# Display sample data\n",
    "northern_hemi_df.head()"
   ]
  },
  {
   "cell_type": "code",
   "execution_count": null,
   "metadata": {},
   "outputs": [],
   "source": [
    "# Create a DataFrame with the Southern Hemisphere data (Latitude < 0)\n",
    "southern_hemi_df = city_data_df.loc[city_data_df[\"Lat\"] < 0]\n",
    "\n",
    "# Display sample data\n",
    "southern_hemi_df.head()"
   ]
  },
  {
   "cell_type": "markdown",
   "metadata": {},
   "source": [
    "###  Temperature vs. Latitude Linear Regression Plot"
   ]
  },
  {
   "cell_type": "code",
   "execution_count": null,
   "metadata": {},
   "outputs": [],
   "source": [
    "# Linear regression on Northern Hemisphere\n",
    "x_values = northern_hemi_df[\"Lat\"]\n",
    "y_values = northern_hemi_df[\"Max Temp\"]\n",
    "slope = linregress(x_values, y_values)\n",
    "(slope, intercept, rvalue, pvalue, stderr) = linregress(x_values, y_values)\n",
    "regress_values = x_values * slope + intercept\n",
    "line_eq = \"y = \" + str(round(slope,2)) + \"x + \" + str(round(intercept,2))\n",
    "\n",
    "#Plot values\n",
    "plt.scatter(x_values, y_values)\n",
    "plt.plot(x_values, regress_values, \"-r\")\n",
    "plt.annotate(line_eq,(0,-20),fontsize=15,color=\"red\")\n",
    "plt.xlabel(\"Latitude\")\n",
    "plt.ylabel(\"Max Temp\")\n",
    "print(f'The r-value is {rvalue}')"
   ]
  },
  {
   "cell_type": "code",
   "execution_count": null,
   "metadata": {},
   "outputs": [],
   "source": [
    "# Linear regression on Southern Hemisphere\n",
    "x_values = southern_hemi_df[\"Lat\"]\n",
    "y_values = southern_hemi_df[\"Max Temp\"]\n",
    "slope = linregress(x_values, y_values)\n",
    "(slope, intercept, rvalue, pvalue, stderr) = linregress(x_values, y_values)\n",
    "regress_values = x_values * slope + intercept\n",
    "line_eq = \"y = \" + str(round(slope,2)) + \"x + \" + str(round(intercept,2))\n",
    "\n",
    "#Plot values\n",
    "plt.scatter(x_values, y_values)\n",
    "plt.plot(x_values, regress_values, \"-r\")\n",
    "plt.annotate(line_eq,(-25,15),fontsize=15,color=\"red\")\n",
    "plt.xlabel(\"Latitude\")\n",
    "plt.ylabel(\"Max Temp\")\n",
    "print(f'The r-value is {rvalue}')\n",
    "\n",
    "# print relationship\n",
    "print(\"Discussion about the linear relationship:\")\n",
    "print(\"The Northern regression displays a negative relationship between temperature and latitude.\")\n",
    "print(\"The Southern regression displays a positive relationship between temperature and latitude.\")\n",
    "print(\"As you move away from the equator, the max temperature decreases and vice versa.\")"
   ]
  },
  {
   "cell_type": "markdown",
   "metadata": {},
   "source": [
    "**Discussion about the linear relationship:** YOUR RESPONSE HERE"
   ]
  },
  {
   "cell_type": "markdown",
   "metadata": {},
   "source": [
    "### Humidity vs. Latitude Linear Regression Plot"
   ]
  },
  {
   "cell_type": "code",
   "execution_count": null,
   "metadata": {},
   "outputs": [],
   "source": [
    "# Northern Hemisphere\n",
    "x_values = northern_hemi_df[\"Lat\"]\n",
    "y_values = northern_hemi_df[\"Humidity\"]\n",
    "slope = linregress(x_values, y_values)\n",
    "(slope, intercept, rvalue, pvalue, stderr) = linregress(x_values, y_values)\n",
    "regress_values = x_values * slope + intercept\n",
    "line_eq = \"y = \" + str(round(slope,2)) + \"x + \" + str(round(intercept,2))\n",
    "\n",
    "#Plot values\n",
    "plt.scatter(x_values, y_values)\n",
    "plt.plot(x_values, regress_values, \"-r\")\n",
    "plt.annotate(line_eq,(40,20),fontsize=15,color=\"red\")\n",
    "plt.xlabel(\"Latitude\")\n",
    "plt.ylabel(\"Humidity\")\n",
    "print(f'The r-value is {rvalue}')"
   ]
  },
  {
   "cell_type": "code",
   "execution_count": null,
   "metadata": {},
   "outputs": [],
   "source": [
    "# Southern Hemisphere\n",
    "x_values = southern_hemi_df[\"Lat\"]\n",
    "y_values = southern_hemi_df[\"Humidity\"]\n",
    "slope = linregress(x_values, y_values)\n",
    "(slope, intercept, rvalue, pvalue, stderr) = linregress(x_values, y_values)\n",
    "regress_values = x_values * slope + intercept\n",
    "line_eq = \"y = \" + str(round(slope,2)) + \"x + \" + str(round(intercept,2))\n",
    "\n",
    "#Plot values\n",
    "plt.scatter(x_values, y_values)\n",
    "plt.plot(x_values, regress_values, \"-r\")\n",
    "plt.annotate(line_eq,(-25,25),fontsize=15,color=\"red\")\n",
    "plt.xlabel(\"Latitude\")\n",
    "plt.ylabel(\"Humidity\")\n",
    "print(f'The r-value is {rvalue}')\n",
    "print(\"Discussion about the linear relationship:\")\n",
    "print(\"Humidity increases as you get closer to the equator.\")"
   ]
  },
  {
   "cell_type": "markdown",
   "metadata": {},
   "source": [
    "**Discussion about the linear relationship:** YOUR RESPONSE HERE"
   ]
  },
  {
   "cell_type": "markdown",
   "metadata": {},
   "source": [
    "### Cloudiness vs. Latitude Linear Regression Plot"
   ]
  },
  {
   "cell_type": "code",
   "execution_count": null,
   "metadata": {},
   "outputs": [],
   "source": [
    "# Northern Hemisphere\n",
    "x_values = northern_hemi_df[\"Lat\"]\n",
    "y_values = northern_hemi_df[\"Cloudiness\"]\n",
    "slope = linregress(x_values, y_values)\n",
    "(slope, intercept, rvalue, pvalue, stderr) = linregress(x_values, y_values)\n",
    "regress_values = x_values * slope + intercept\n",
    "line_eq = \"y = \" + str(round(slope,2)) + \"x + \" + str(round(intercept,2))\n",
    "\n",
    "#Plot values\n",
    "plt.scatter(x_values, y_values)\n",
    "plt.plot(x_values, regress_values, \"-r\")\n",
    "plt.annotate(line_eq,(40,20),fontsize=15,color=\"red\")\n",
    "plt.xlabel(\"Latitude\")\n",
    "plt.ylabel(\"Cloudiness\")\n",
    "print(f'The r-value is {rvalue}')"
   ]
  },
  {
   "cell_type": "code",
   "execution_count": null,
   "metadata": {},
   "outputs": [],
   "source": [
    "# Southern Hemisphere\n",
    "x_values = southern_hemi_df[\"Lat\"]\n",
    "y_values = southern_hemi_df[\"Cloudiness\"]\n",
    "slope = linregress(x_values, y_values)\n",
    "(slope, intercept, rvalue, pvalue, stderr) = linregress(x_values, y_values)\n",
    "regress_values = x_values * slope + intercept\n",
    "line_eq = \"y = \" + str(round(slope,2)) + \"x + \" + str(round(intercept,2))\n",
    "\n",
    "#Plot values\n",
    "plt.scatter(x_values, y_values)\n",
    "plt.plot(x_values, regress_values, \"-r\")\n",
    "plt.annotate(line_eq,(-25,15),fontsize=15,color=\"red\")\n",
    "plt.xlabel(\"Latitude\")\n",
    "plt.ylabel(\"Cloudiness\")\n",
    "print(f'The r-value is {rvalue}')\n",
    "print(\"Discussion about the linear relationship:\")\n",
    "print(\"There seems to be no relationship between latitude and cloudiness.\")"
   ]
  },
  {
   "cell_type": "markdown",
   "metadata": {},
   "source": [
    "**Discussion about the linear relationship:** YOUR RESPONSE HERE"
   ]
  },
  {
   "cell_type": "markdown",
   "metadata": {},
   "source": [
    "### Wind Speed vs. Latitude Linear Regression Plot"
   ]
  },
  {
   "cell_type": "code",
   "execution_count": null,
   "metadata": {},
   "outputs": [],
   "source": [
    "# Northern Hemisphere\n",
    "x_values = northern_hemi_df[\"Lat\"]\n",
    "y_values = northern_hemi_df[\"Wind Speed\"]\n",
    "slope = linregress(x_values, y_values)\n",
    "(slope, intercept, rvalue, pvalue, stderr) = linregress(x_values, y_values)\n",
    "regress_values = x_values * slope + intercept\n",
    "line_eq = \"y = \" + str(round(slope,2)) + \"x + \" + str(round(intercept,2))\n",
    "\n",
    "#Plot values\n",
    "plt.scatter(x_values, y_values)\n",
    "plt.plot(x_values, regress_values, \"-r\")\n",
    "plt.annotate(line_eq,(15,10),fontsize=15,color=\"red\")\n",
    "plt.xlabel(\"Latitude\")\n",
    "plt.ylabel(\"Wind Speed\")\n",
    "print(f'The r-value is {rvalue}')"
   ]
  },
  {
   "cell_type": "code",
   "execution_count": null,
   "metadata": {},
   "outputs": [],
   "source": [
    "# Southern Hemisphere\n",
    "x_values = southern_hemi_df[\"Lat\"]\n",
    "y_values = southern_hemi_df[\"Wind Speed\"]\n",
    "slope = linregress(x_values, y_values)\n",
    "(slope, intercept, rvalue, pvalue, stderr) = linregress(x_values, y_values)\n",
    "regress_values = x_values * slope + intercept\n",
    "line_eq = \"y = \" + str(round(slope,2)) + \"x + \" + str(round(intercept,2))\n",
    "\n",
    "#Plot values\n",
    "plt.scatter(x_values, y_values)\n",
    "plt.plot(x_values, regress_values, \"-r\")\n",
    "plt.annotate(line_eq,(-25,10),fontsize=15,color=\"red\")\n",
    "plt.xlabel(\"Latitude\")\n",
    "plt.ylabel(\"Wind Speed\")\n",
    "print(f'The r-value is {rvalue}')\n",
    "print(\"Discussion about the linear relationship:\")\n",
    "print(\"There seems to be no relationship between latitude and wind speed.\")"
   ]
  },
  {
   "cell_type": "markdown",
   "metadata": {},
   "source": [
    "**Discussion about the linear relationship:** YOUR RESPONSE HERE"
   ]
  },
  {
   "cell_type": "code",
   "execution_count": null,
   "metadata": {},
   "outputs": [],
   "source": []
  }
 ],
 "metadata": {
  "anaconda-cloud": {},
  "kernel_info": {
   "name": "python3"
  },
  "kernelspec": {
   "display_name": "Python 3 (ipykernel)",
   "language": "python",
   "name": "python3"
  },
  "language_info": {
   "codemirror_mode": {
    "name": "ipython",
    "version": 3
   },
   "file_extension": ".py",
   "mimetype": "text/x-python",
   "name": "python",
   "nbconvert_exporter": "python",
   "pygments_lexer": "ipython3",
   "version": "3.10.9"
  },
  "latex_envs": {
   "LaTeX_envs_menu_present": true,
   "autoclose": false,
   "autocomplete": true,
   "bibliofile": "biblio.bib",
   "cite_by": "apalike",
   "current_citInitial": 1,
   "eqLabelWithNumbers": true,
   "eqNumInitial": 1,
   "hotkeys": {
    "equation": "Ctrl-E",
    "itemize": "Ctrl-I"
   },
   "labels_anchors": false,
   "latex_user_defs": false,
   "report_style_numbering": false,
   "user_envs_cfg": false
  },
  "nteract": {
   "version": "0.12.3"
  }
 },
 "nbformat": 4,
 "nbformat_minor": 4
}
